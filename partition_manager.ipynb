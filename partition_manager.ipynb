{
 "cells": [
  {
   "cell_type": "code",
   "execution_count": 38,
   "metadata": {},
   "outputs": [],
   "source": [
    "parts = [\n",
    "    ['otadata', 'data', 'ota', 8*1024],\n",
    "    ['phy_init','data', 'phy', 4*1024],\n",
    "    ['nvs', 'data', 'nvs', 16 * 1024],\n",
    "    ['app0', 'app', 'ota_0', 1280*1024],\n",
    "    ['app1', 'app', 'ota_1', 1280*1024],\n",
    "    ['coredump', 'data', 'coredump', 64*1024],\n",
    "    ['spiffs', 'data', 'spiffs', 1408 * 1024]\n",
    "]\n",
    "initial_offset = 0x9000\n",
    "\n",
    "def fmt_size(size):\n",
    "    if (size % 1024 == 0):\n",
    "        return str(size // 1024) + 'K'\n",
    "    return size"
   ]
  },
  {
   "cell_type": "code",
   "execution_count": 40,
   "metadata": {},
   "outputs": [
    {
     "name": "stdout",
     "output_type": "stream",
     "text": [
      "otadata, data, ota, 0x9000, 8K,,\n",
      "phy_init, data, phy, 0xb000, 4K,,\n",
      "nvs, data, nvs, 0xc000, 16K,,\n",
      "app0, app, ota_0, 0x10000, 1280K,,\n",
      "app1, app, ota_1, 0x150000, 1280K,,\n",
      "coredump, data, coredump, 0x290000, 64K,,\n",
      "spiffs, data, spiffs, 0x2a0000, 1408K,,\n",
      "total size 4096.0 KB\n"
     ]
    }
   ],
   "source": [
    "offset = initial_offset\n",
    "for part in parts:\n",
    "    print(f'{part[0]}, {part[1]}, {part[2]}, {hex(offset)}, {fmt_size(part[3])},,')\n",
    "    offset += part[3]\n",
    "print(\"total size\", offset/1024, 'KB')"
   ]
  }
 ],
 "metadata": {
  "kernelspec": {
   "display_name": "Python 3",
   "language": "python",
   "name": "python3"
  },
  "language_info": {
   "codemirror_mode": {
    "name": "ipython",
    "version": 3
   },
   "file_extension": ".py",
   "mimetype": "text/x-python",
   "name": "python",
   "nbconvert_exporter": "python",
   "pygments_lexer": "ipython3",
   "version": "3.13.3"
  }
 },
 "nbformat": 4,
 "nbformat_minor": 2
}
